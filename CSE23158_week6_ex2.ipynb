{
 "cells": [
  {
   "cell_type": "code",
   "execution_count": null,
   "id": "c126cfec-43ce-4164-9861-542944f66a66",
   "metadata": {},
   "outputs": [],
   "source": [
    "import pandas as pd\n",
    "import numpy as np\n",
    "import matplotlib.pyplot as plt\n",
    "import seaborn as sns\n",
    "from sklearn.model_selection import train_test_split\n",
    "from sklearn.linear_model import LinearRegression, SGDRegressor\n",
    "from sklearn.metrics import r2_score, mean_squared_error, mean_absolute_error\n",
    "from sklearn.preprocessing import OneHotEncoder, StandardScaler\n",
    "from sklearn.compose import ColumnTransformer"
   ]
  },
  {
   "cell_type": "code",
   "execution_count": null,
   "id": "c95ffb99-f524-4f9a-a7d6-00ab56bc2ae9",
   "metadata": {},
   "outputs": [],
   "source": [
    "path = \"student-math.csv\"  # or the actual file path\n",
    "df = pd.read_csv(path, sep=\";\", quotechar='\"', dtype=str)"
   ]
  },
  {
   "cell_type": "code",
   "execution_count": null,
   "id": "975d6b8d-7e7f-49d9-916d-2229dc990057",
   "metadata": {},
   "outputs": [],
   "source": [
    "print(df.head(3).T)"
   ]
  },
  {
   "cell_type": "code",
   "execution_count": null,
   "id": "d49bd783-2ebd-4d75-85d9-fc5403cc50e5",
   "metadata": {},
   "outputs": [],
   "source": [
    "def clean_numeric_columns(df, numeric_cols):\n",
    "    for c in numeric_cols:\n",
    "        # remove quotes, spaces and coerce to numeric\n",
    "        df[c] = df[c].astype(str).str.replace('\"', '', regex=False).str.strip()\n",
    "        df[c] = pd.to_numeric(df[c], errors=\"coerce\")\n",
    "    return df\n",
    "\n",
    "numeric_cols = [\n",
    "    \"age\", \"Medu\", \"Fedu\", \"traveltime\", \"studytime\", \"failures\", \"famrel\",\n",
    "    \"freetime\", \"goout\", \"Dalc\", \"Walc\", \"health\", \"absences\", \"G1\", \"G2\", \"G3\"\n",
    "]\n",
    "df = clean_numeric_columns(df, numeric_cols)\n"
   ]
  },
  {
   "cell_type": "code",
   "execution_count": null,
   "id": "95558389-48b2-451c-a39d-2d7e0019339d",
   "metadata": {},
   "outputs": [],
   "source": [
    "bool_cols = [\"schoolsup\", \"famsup\", \"paid\", \"activities\", \"nursery\", \"higher\", \"internet\", \"romantic\", \"Pstatus\"]\n",
    "for c in bool_cols:\n",
    "    if c in df.columns:\n",
    "        df[c] = df[c].astype(str).str.lower().str.replace('\"', '').str.strip()"
   ]
  },
  {
   "cell_type": "code",
   "execution_count": null,
   "id": "fc848ce0-e96f-449c-aea6-eaf120cfd9db",
   "metadata": {},
   "outputs": [],
   "source": [
    "print(\"\\nMissing values per column:\\n\", df.isnull().sum())"
   ]
  },
  {
   "cell_type": "code",
   "execution_count": null,
   "id": "b1fb8c12-698c-4aed-8cf4-5b04b3df4790",
   "metadata": {},
   "outputs": [],
   "source": [
    "df = df.dropna(subset=[\"G3\"])"
   ]
  },
  {
   "cell_type": "code",
   "execution_count": null,
   "id": "3c1b7ae5-1625-4f9a-8e52-0620e0a28e18",
   "metadata": {},
   "outputs": [],
   "source": [
    "for c in numeric_cols:\n",
    "    if c in df.columns:\n",
    "        df[c].fillna(df[c].median(), inplace=True)\n"
   ]
  },
  {
   "cell_type": "code",
   "execution_count": null,
   "id": "190d0ba7-e9ff-40bd-8362-1e738043438c",
   "metadata": {},
   "outputs": [],
   "source": [
    "cat_cols = df.select_dtypes(include=\"object\").columns.tolist()\n",
    "for c in cat_cols:\n",
    "    df[c].fillna(df[c].mode().iloc[0], inplace=True)"
   ]
  },
  {
   "cell_type": "code",
   "execution_count": null,
   "id": "91a59108-6253-4272-ae6a-3146dc77318e",
   "metadata": {},
   "outputs": [],
   "source": [
    "print( df.shape)\n"
   ]
  },
  {
   "cell_type": "code",
   "execution_count": null,
   "id": "0771716d-180e-471c-bd31-483a32b5cebb",
   "metadata": {},
   "outputs": [],
   "source": [
    "for c in cat_cols:\n",
    "    df[c] = df[c].astype(\"category\")"
   ]
  },
  {
   "cell_type": "code",
   "execution_count": null,
   "id": "678a9477-676b-4ba2-9578-47d8fcc04d9e",
   "metadata": {},
   "outputs": [],
   "source": [
    "num_df = df[numeric_cols].copy()\n",
    "corr = num_df.corr()\n",
    "plt.figure(figsize=(9, 7))\n"
   ]
  },
  {
   "cell_type": "code",
   "execution_count": null,
   "id": "4cffc15a-bd97-45e4-bd38-2b815dd57a79",
   "metadata": {},
   "outputs": [],
   "source": [
    "sns.heatmap(corr, annot=True, fmt=\".2f\", cmap=\"coolwarm\", square=True)\n",
    "plt.title(\"Numeric Feature Correlation Matrix\")"
   ]
  },
  {
   "cell_type": "code",
   "execution_count": null,
   "id": "3387f5b2-d68c-42d7-82af-ee05e3042bc6",
   "metadata": {},
   "outputs": [],
   "source": [
    "plt.show()"
   ]
  },
  {
   "cell_type": "code",
   "execution_count": null,
   "id": "f3550418-f5d1-43b2-8c1f-7f01b555ad2c",
   "metadata": {},
   "outputs": [],
   "source": [
    "plt.figure(figsize=(6, 4))\n",
    "sns.histplot(df[\"G3\"], kde=True)\n",
    "plt.title(\"Distribution of final grade (G3)\")\n",
    "plt.xlabel(\"G3\")\n",
    "plt.show()\n"
   ]
  },
  {
   "cell_type": "code",
   "execution_count": null,
   "id": "a47d968b-11ba-4970-830a-fa00149141cf",
   "metadata": {},
   "outputs": [],
   "source": [
    "plt.figure(figsize=(12, 5))\n",
    "plt.subplot(1, 2, 1)\n",
    "sns.scatterplot(x=\"G1\", y=\"G3\", data=df)\n",
    "plt.title(\"G1 vs G3\")\n",
    "plt.subplot(1, 2, 2)\n",
    "sns.scatterplot(x=\"G2\", y=\"G3\", data=df)\n",
    "plt.title(\"G2 vs G3\")\n",
    "plt.show()"
   ]
  },
  {
   "cell_type": "code",
   "execution_count": null,
   "id": "0cb62835-6f85-47b6-8980-b4d02d8c0430",
   "metadata": {},
   "outputs": [],
   "source": [
    "simple_feature = [\"G1\"]  \n",
    "multi_features = [\"G1\", \"G2\", \"studytime\", \"failures\"]  \n"
   ]
  },
  {
   "cell_type": "code",
   "execution_count": null,
   "id": "de94e0b3-ba16-4d94-878f-6d8dce59f0d7",
   "metadata": {},
   "outputs": [],
   "source": [
    "for col in simple_feature + multi_features:\n",
    "    if col not in df.columns:\n",
    "        raise KeyError(f\"Expected column '{col}' not found in dataframe\")\n",
    "\n",
    "X_simple = df[simple_feature].values.reshape(-1, 1)\n",
    "X_multi = df[multi_features].values\n",
    "y = df[\"G3\"].values\n",
    "\n"
   ]
  },
  {
   "cell_type": "code",
   "execution_count": null,
   "id": "474ff30b-cfe8-471f-9cdc-05b0d5e7e31c",
   "metadata": {},
   "outputs": [],
   "source": [
    "splits = {\"80:20\": 0.2, \"70:30\": 0.3, \"60:40\": 0.4}\n",
    "random_state = 42"
   ]
  }
 ],
 "metadata": {
  "kernelspec": {
   "display_name": "Python 3 (ipykernel)",
   "language": "python",
   "name": "python3"
  },
  "language_info": {
   "codemirror_mode": {
    "name": "ipython",
    "version": 3
   },
   "file_extension": ".py",
   "mimetype": "text/x-python",
   "name": "python",
   "nbconvert_exporter": "python",
   "pygments_lexer": "ipython3",
   "version": "3.12.7"
  }
 },
 "nbformat": 4,
 "nbformat_minor": 5
}
