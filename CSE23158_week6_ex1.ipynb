{
 "cells": [
  {
   "cell_type": "code",
   "execution_count": 1,
   "id": "202b2e9a-43c3-40a4-9b2a-5964eaa0a57b",
   "metadata": {},
   "outputs": [],
   "source": [
    "import pandas as pd\n",
    "import numpy as np\n",
    "import matplotlib.pyplot as plt\n",
    "import seaborn as sns\n",
    "from sklearn.model_selection import train_test_split\n",
    "from sklearn.linear_model import LinearRegression\n",
    "from sklearn.metrics import mean_squared_error, mean_absolute_error, r2_score"
   ]
  },
  {
   "cell_type": "code",
   "execution_count": null,
   "id": "2c86964d-8622-4393-9941-9708a99525f9",
   "metadata": {},
   "outputs": [],
   "source": [
    "df = pd.read_csv(\"C:/Users/nellu/OneDrive/Pictures/Desktop/advertising.csv\")\n",
    "df.head()"
   ]
  },
  {
   "cell_type": "code",
   "execution_count": null,
   "id": "419828c9-6f45-4bd6-aeb3-f05ff70ee468",
   "metadata": {},
   "outputs": [],
   "source": [
    "print(\"Missing Values:\\n\", df.isnull().sum())\n",
    "print(\"\\nBasic Statistics:\\n\", df.describe())\n"
   ]
  },
  {
   "cell_type": "code",
   "execution_count": null,
   "id": "7670f8d8-f7e8-4a9a-8db3-57ff9f2cd021",
   "metadata": {},
   "outputs": [],
   "source": [
    "plt.figure(figsize=(12, 4))\n",
    "for i, col in enumerate(df.columns, 1):\n",
    "    plt.subplot(1, 4, i)\n",
    "    sns.histplot(df[col], kde=True)\n",
    "    plt.title(f\"{col} Distribution\")\n",
    "plt.tight_layout()\n",
    "plt.show()"
   ]
  },
  {
   "cell_type": "code",
   "execution_count": null,
   "id": "9ce3ef45-8f0c-4439-be1e-84be7dc2dc42",
   "metadata": {},
   "outputs": [],
   "source": [
    "splits = [(0.8, 0.2), (0.7, 0.3), (0.6, 0.4)]\n",
    "split_sizes = []\n",
    "for train_ratio, test_ratio in splits:\n",
    "    X = df[[\"TV\"]]  \n",
    "    y = df[\"Sales\"]\n",
    "    X_train, X_test, y_train, y_test = train_test_split(\n",
    "        X, y, test_size=test_ratio, random_state=42\n",
    "    )\n",
    "    split_sizes.append((train_ratio, test_ratio, len(X_train), len(X_test)))\n",
    "    print(\"\\nTrain/Test Sizes:\")\n",
    "for s in split_sizes:\n",
    "    print(f\"Train:Test = {int(s[0]*100)}:{int(s[1]*100)} -> Train size: {s[2]}, Test size: {s[3]}\")"
   ]
  },
  {
   "cell_type": "code",
   "execution_count": null,
   "id": "b8b4ae8f-8e9d-46ce-a37a-ccbd98c9a9dd",
   "metadata": {},
   "outputs": [],
   "source": [
    "for train_ratio, test_ratio in splits:\n",
    "    print(f\"\\n--- Simple Linear Regression (Train {int(train_ratio*100)}%, Test {int(test_ratio*100)}%) ---\")\n",
    "    X = df[[\"TV\"]]\n",
    "    y = df[\"Sales\"]\n",
    "    X_train, X_test, y_train, y_test = train_test_split(\n",
    "        X, y, test_size=test_ratio, random_state=42\n",
    "    )\n",
    "    \n",
    "    lr = LinearRegression()\n",
    "    lr.fit(X_train, y_train)\n",
    "    y_pred = lr.predict(X_test)\n",
    "    \n",
    "    # Metrics\n",
    "    r2 = r2_score(y_test, y_pred)\n",
    "    mse = mean_squared_error(y_test, y_pred)\n",
    "    mae = mean_absolute_error(y_test, y_pred)\n",
    "    print(f\"R²: {r2:.4f}, MSE: {mse:.4f}, MAE: {mae:.4f}\")"
   ]
  },
  {
   "cell_type": "code",
   "execution_count": null,
   "id": "377574d3-390b-4ab3-8cc9-65f22df15e87",
   "metadata": {},
   "outputs": [],
   "source": [
    "plt.scatter(X_test, y_test, color='blue', label=\"Actual\")"
   ]
  },
  {
   "cell_type": "code",
   "execution_count": null,
   "id": "fefddb3f-016b-4bc1-93e7-29d64a2cdf6b",
   "metadata": {},
   "outputs": [],
   "source": [
    "   plt.scatter(X_test, y_pred, color='red', label=\"Predicted\")"
   ]
  },
  {
   "cell_type": "code",
   "execution_count": null,
   "id": "2f57ae52-3c0c-4d93-9f16-7361d0b6ebe5",
   "metadata": {},
   "outputs": [],
   "source": [
    " plt.plot(X_test, y_pred, color='green')"
   ]
  },
  {
   "cell_type": "code",
   "execution_count": null,
   "id": "549fe22a-2ee0-4546-a337-43e95da95a9a",
   "metadata": {},
   "outputs": [],
   "source": [
    " plt.xlabel(\"TV Spend\")"
   ]
  },
  {
   "cell_type": "code",
   "execution_count": null,
   "id": "2aadfa0d-0b30-466c-b577-957c625a9770",
   "metadata": {},
   "outputs": [],
   "source": [
    " plt.ylabel(\"Sales\")"
   ]
  },
  {
   "cell_type": "code",
   "execution_count": null,
   "id": "0a330255-279a-465c-8f3b-f0f15ed71572",
   "metadata": {},
   "outputs": [],
   "source": [
    "residuals = y_test - y_pred\n",
    "    sns.histplot(residuals, kde=True)\n",
    "    plt.title(\"Residual Distribution\")\n",
    "    plt.show()"
   ]
  },
  {
   "cell_type": "code",
   "execution_count": null,
   "id": "724eeb59-a20f-4961-ad91-c52816c4b156",
   "metadata": {},
   "outputs": [],
   "source": [
    "for train_ratio, test_ratio in splits:\n",
    "    print(f\"\\n--- Multiple Linear Regression (Train {int(train_ratio*100)}%, Test {int(test_ratio*100)}%) ---\")\n",
    "    X = df[[\"TV\", \"Radio\", \"Newspaper\"]]\n",
    "    y = df[\"Sales\"]\n",
    "    X_train, X_test, y_train, y_test = train_test_split(\n",
    "        X, y, test_size=test_ratio, random_state=42\n",
    "    )\n",
    "    \n",
    "    lr = LinearRegression()\n",
    "    lr.fit(X_train, y_train)\n",
    "    y_pred = lr.predict(X_test)"
   ]
  },
  {
   "cell_type": "code",
   "execution_count": null,
   "id": "41ac8f19-4024-4454-a8a9-196742e33fbd",
   "metadata": {},
   "outputs": [],
   "source": [
    "r2 = r2_score(y_test, y_pred)\n",
    "    mse = mean_squared_error(y_test, y_pred)\n",
    "    mae = mean_absolute_error(y_test, y_pred)\n",
    "    print(f\"R²: {r2:.4f}, MSE: {mse:.4f}, MAE: {mae:.4f}\")"
   ]
  },
  {
   "cell_type": "code",
   "execution_count": null,
   "id": "0ddfa763-f2ba-435f-adac-6777dae25bb7",
   "metadata": {},
   "outputs": [],
   "source": [
    "plt.scatter(y_test, y_pred)"
   ]
  },
  {
   "cell_type": "code",
   "execution_count": null,
   "id": "7bd546b4-7349-4269-ba2a-783daf967a20",
   "metadata": {},
   "outputs": [],
   "source": [
    " plt.xlabel(\"Actual Sales\")"
   ]
  },
  {
   "cell_type": "code",
   "execution_count": null,
   "id": "9ff21d2c-97df-4bf0-be83-c43ea2a1c02d",
   "metadata": {},
   "outputs": [],
   "source": [
    "plt.ylabel(\"Predicted Sales\")"
   ]
  },
  {
   "cell_type": "code",
   "execution_count": null,
   "id": "85e632a8-d42d-4bb8-9feb-88b8f3176c57",
   "metadata": {},
   "outputs": [],
   "source": [
    "plt.title(f\"Multiple LR (Train {int(train_ratio*100)}%, Test {int(test_ratio*100)}%)\")\n",
    "    plt.show()"
   ]
  },
  {
   "cell_type": "code",
   "execution_count": null,
   "id": "62df1217-4db5-4769-b395-92654783605e",
   "metadata": {},
   "outputs": [],
   "source": [
    " residuals = y_test - y_pred\n",
    "    sns.histplot(residuals, kde=True)\n",
    "    plt.title(\"Residual Distribution\")\n",
    "    plt.show()"
   ]
  }
 ],
 "metadata": {
  "kernelspec": {
   "display_name": "Python 3 (ipykernel)",
   "language": "python",
   "name": "python3"
  },
  "language_info": {
   "codemirror_mode": {
    "name": "ipython",
    "version": 3
   },
   "file_extension": ".py",
   "mimetype": "text/x-python",
   "name": "python",
   "nbconvert_exporter": "python",
   "pygments_lexer": "ipython3",
   "version": "3.12.7"
  }
 },
 "nbformat": 4,
 "nbformat_minor": 5
}
